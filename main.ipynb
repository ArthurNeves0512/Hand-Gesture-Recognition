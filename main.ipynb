{
 "cells": [
  {
   "cell_type": "code",
   "execution_count": 2,
   "metadata": {},
   "outputs": [],
   "source": [
    "import cv2\n",
    "import numpy as np\n",
    "from matplotlib import pyplot as plt\n",
    "import auxiliary_functions as aux_func"
   ]
  },
  {
   "cell_type": "code",
   "execution_count": 3,
   "metadata": {},
   "outputs": [],
   "source": [
    "def show_image(image, title: str = \"Sem Título\"):\n",
    "    plt.figure(figsize=(7, 4))\n",
    "    plt.imshow(image, cmap = 'gray')\n",
    "    plt.title(title)\n",
    "    plt.show()"
   ]
  },
  {
   "cell_type": "code",
   "execution_count": 4,
   "metadata": {},
   "outputs": [],
   "source": [
    "def createBox(image, bounding_box):\n",
    "    red = (255, 0, 0)\n",
    "    x,y,w,h = bounding_box\n",
    "    # print(bounding_box)\n",
    "    image_with_box = cv2.rectangle(image,(x,y),(x+w,y+h),red,2)\n",
    "\n",
    "    return image_with_box"
   ]
  },
  {
   "cell_type": "code",
   "execution_count": 5,
   "metadata": {},
   "outputs": [
    {
     "name": "stdout",
     "output_type": "stream",
     "text": [
      "[True, True, True, True, True]\n",
      "5\n",
      "[False, True, True, False, False]\n",
      "2\n",
      "[False, True, True, False, False]\n",
      "2\n",
      "[False, True, True, True, True]\n",
      "4\n",
      "[True, True, True, True, False]\n",
      "4\n",
      "[True, True, True, True, True]\n",
      "5\n",
      "[True, True, True, True, True]\n",
      "5\n",
      "[False, True, True, True, True]\n",
      "4\n",
      "[False, True, True, True, False]\n",
      "3\n",
      "[True, True, True, True, True]\n",
      "5\n",
      "[True, True, True, True, True]\n",
      "5\n"
     ]
    }
   ],
   "source": [
    "images_amount = 11\n",
    "threshold = 140\n",
    "number_test = 5\n",
    "answer_list = list()\n",
    "\n",
    "for i in range(1, images_amount + 1):\n",
    "    file_path = f\"image_tests/image{number_test}_{i}.jpeg\"\n",
    "    base_image = cv2.imread(file_path, -1)\n",
    "    base_image = cv2.cvtColor(base_image, cv2.COLOR_BGR2RGB)\n",
    "    \n",
    "    image = cv2.imread(file_path, 0)\n",
    "    \n",
    "    processed_image = aux_func.baseProcessing(image, threshold)\n",
    "    \n",
    "    image_data = aux_func.createImageData(processed_image)\n",
    "    \n",
    "    image_with_bouding_box = createBox(base_image.copy(), image_data[\"bounding_box\"])\n",
    "    \n",
    "    has_thumb = aux_func.thumbDetector(processed_image, image_with_bouding_box, image_data[\"bounding_box\"], detection_area=150)\n",
    "    \n",
    "    gesture_list = aux_func.calcEuclidianDistance(image_data[\"fingers_peaks\"], image_data[\"centroid\"], has_thumb)\n",
    "    answer_list.append(gesture_list)\n",
    "\n",
    "for a in answer_list:\n",
    "    print(a)\n",
    "    print(a.count(True))"
   ]
  }
 ],
 "metadata": {
  "kernelspec": {
   "display_name": ".venv",
   "language": "python",
   "name": "python3"
  },
  "language_info": {
   "codemirror_mode": {
    "name": "ipython",
    "version": 3
   },
   "file_extension": ".py",
   "mimetype": "text/x-python",
   "name": "python",
   "nbconvert_exporter": "python",
   "pygments_lexer": "ipython3",
   "version": "3.10.12"
  }
 },
 "nbformat": 4,
 "nbformat_minor": 2
}
